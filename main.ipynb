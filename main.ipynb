{
 "cells": [
  {
   "cell_type": "code",
   "execution_count": 1,
   "metadata": {},
   "outputs": [
    {
     "ename": "ImportError",
     "evalue": "cannot import name 'gui' from 'autosub' (unknown location)",
     "output_type": "error",
     "traceback": [
      "\u001b[1;31m---------------------------------------------------------------------------\u001b[0m",
      "\u001b[1;31mImportError\u001b[0m                               Traceback (most recent call last)",
      "\u001b[1;32m<ipython-input-1-49e9eab1dbc4>\u001b[0m in \u001b[0;36m<module>\u001b[1;34m\u001b[0m\n\u001b[0;32m      3\u001b[0m \u001b[1;32mimport\u001b[0m \u001b[0mos\u001b[0m\u001b[1;33m\u001b[0m\u001b[1;33m\u001b[0m\u001b[0m\n\u001b[0;32m      4\u001b[0m \u001b[1;32mimport\u001b[0m \u001b[0mpdfplumber\u001b[0m\u001b[1;33m\u001b[0m\u001b[1;33m\u001b[0m\u001b[0m\n\u001b[1;32m----> 5\u001b[1;33m \u001b[1;32mfrom\u001b[0m \u001b[0mautosub\u001b[0m \u001b[1;32mimport\u001b[0m \u001b[0mgui\u001b[0m\u001b[1;33m\u001b[0m\u001b[1;33m\u001b[0m\u001b[0m\n\u001b[0m\u001b[0;32m      6\u001b[0m \u001b[1;32mfrom\u001b[0m \u001b[0mautosub\u001b[0m \u001b[1;32mimport\u001b[0m \u001b[0mRead_pdf\u001b[0m\u001b[1;33m\u001b[0m\u001b[1;33m\u001b[0m\u001b[0m\n\u001b[0;32m      7\u001b[0m \u001b[1;32mfrom\u001b[0m \u001b[0mautosub\u001b[0m \u001b[1;32mimport\u001b[0m \u001b[0mGet_filelist\u001b[0m\u001b[1;33m\u001b[0m\u001b[1;33m\u001b[0m\u001b[0m\n",
      "\u001b[1;31mImportError\u001b[0m: cannot import name 'gui' from 'autosub' (unknown location)"
     ]
    }
   ],
   "source": [
    "import tkinter as tk\n",
    "import textwrap\n",
    "import os\n",
    "import pdfplumber\n",
    "from autosub import gui\n",
    "from autosub import Read_pdf\n",
    "from autosub import Get_filelist\n",
    "from autosub import Write_pdf\n",
    "import clipboard\n",
    "import tkinter as tk\n",
    "import math\n",
    "import pathlib\n",
    "import PyPDF2\n",
    "import io\n",
    "import reportlab\n",
    "from reportlab.pdfgen import canvas\n",
    "from reportlab.lib.pagesizes import letter\n",
    "from reportlab.pdfbase import pdfmetrics\n",
    "from reportlab.pdfbase.ttfonts import TTFont\n",
    "from shutil import copyfile\n",
    "from tkinter import ttk\n",
    "from tkinter import scrolledtext\n",
    "from tkinter import messagebox\n",
    "from tkinter import Menu\n",
    "from tkinter import filedialog\n",
    "from tkinter import simpledialog\n",
    "import time\n",
    "import PySimpleGUI as sg\n",
    "import yaml\n",
    "import configparser\n",
    "\n",
    "filepath = os.path.join(os.getcwd(), 'config.ini')\n",
    "if not os.path.isfile(filepath):#沒有config.ini時\n",
    "    config = configparser.ConfigParser()\n",
    "    config.add_section('setting')\n",
    "    config['setting']['userpath'] = 'd:/'\n",
    "    config['setting']['popup_yaml'] = 'hot_phrases.yaml'\n",
    "    config['setting']['template_yaml'] = gui.sg_select_yaml()\n",
    "    config['setting']['user_lexicon_yaml']= 'rformat.yaml'\n",
    "    config['setting']['warp_chars'] = '38'\n",
    "    config.add_section('get_filelist')\n",
    "    config['get_filelist']['erp_file_chars'] = 'getjobid'\n",
    "\n",
    "\n",
    "    with open(filepath, 'w') as configfile:\n",
    "        config.write(configfile)\n",
    "    print('沒有偵測到設定檔，重新建立'+ filepath)\n",
    "else:\n",
    "    print('偵測到設定檔:'+ filepath)\n",
    "        \n",
    "\n",
    "root = tk.Tk()\n",
    "app = gui.App(root)\n",
    "root.mainloop()\n"
   ]
  }
 ],
 "metadata": {
  "kernelspec": {
   "display_name": "Python 3",
   "language": "python",
   "name": "python3"
  },
  "language_info": {
   "codemirror_mode": {
    "name": "ipython",
    "version": 3
   },
   "file_extension": ".py",
   "mimetype": "text/x-python",
   "name": "python",
   "nbconvert_exporter": "python",
   "pygments_lexer": "ipython3",
   "version": "3.7.1"
  }
 },
 "nbformat": 4,
 "nbformat_minor": 2
}
