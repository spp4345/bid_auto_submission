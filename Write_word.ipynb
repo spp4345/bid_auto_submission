{
 "cells": [
  {
   "cell_type": "code",
   "execution_count": 65,
   "metadata": {},
   "outputs": [],
   "source": [
    "import docx\n",
    "import time\n",
    "import PySimpleGUI as sg\n",
    "from docx.oxml.ns import qn\n",
    "from docx.shared import Inches, Pt\n",
    "from docx.enum.style import WD_STYLE_TYPE\n",
    "\n",
    "\n",
    "def write_word(file, title, text,**option):\n",
    "    option.setdefault('font_name', '新細明體')\n",
    "    option.setdefault('font_size', 12)\n",
    "    \n",
    "    try:\n",
    "        doc = docx.Document(file)\n",
    "        doc.styles['Normal'].font.name = option['font_name']\n",
    "        doc.styles['Normal'].font.size = Pt(option['font_size'])\n",
    "        doc.styles['Normal']._element.rPr.rFonts.set(qn('w:eastAsia'), option['font_name'])\n",
    "        p = doc.add_paragraph()\n",
    "        p.add_run(title + '@' + time.strftime(\"%Y-%m-%d %H:%M:%S\", time.localtime()) + '\\n').bold = True\n",
    "        p.add_run(text)\n",
    "        doc.save(file)\n",
    "    except PermissionError:\n",
    "        sg.popup_ok('尚未關閉{a}，無法將說明寫入，請先關閉{a}後再試一次。'.format(a = file), title = '寫入word檔')\n",
    "\n",
    "if __name__ == '__main__':\n",
    "    file = 'test.docx'\n",
    "    case = '5PH011Z6-苯酚厂K-621废液焚烧设备检修工程'\n",
    "    text = '''\n",
    "1.本案為台化寧波「苯酚厂K-621废液焚烧设备检修工程」，預算編列RMB718,396，增值稅率需求為9%。\n",
    "2.開標及催報後共計3家廠商報價，議後以廠商「上海大宇电力」由RMB956,031降至RMB800,000最低，較預算+11.35%。廠商反應本案{差異原因}。\n",
    "3.擬擇廉以RMB800,000(NTD4,000,000元)交「上海大宇电力」承攬，開立9%發票符合。\n",
    "    '''\n",
    "\n",
    "    write_word(file, case, text)"
   ]
  }
 ],
 "metadata": {
  "kernelspec": {
   "display_name": "Python 3",
   "language": "python",
   "name": "python3"
  },
  "language_info": {
   "codemirror_mode": {
    "name": "ipython",
    "version": 3
   },
   "file_extension": ".py",
   "mimetype": "text/x-python",
   "name": "python",
   "nbconvert_exporter": "python",
   "pygments_lexer": "ipython3",
   "version": "3.7.1"
  }
 },
 "nbformat": 4,
 "nbformat_minor": 2
}
