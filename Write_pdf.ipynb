{
 "cells": [
  {
   "cell_type": "code",
   "execution_count": 2,
   "metadata": {},
   "outputs": [
    {
     "name": "stdout",
     "output_type": "stream",
     "text": [
      "d://T1-w.pdf pdf_write done\n"
     ]
    }
   ],
   "source": [
    "from PyPDF2 import PdfFileWriter, PdfFileReader\n",
    "import io\n",
    "import os\n",
    "from reportlab.pdfgen import canvas\n",
    "from reportlab.lib.pagesizes import letter\n",
    "from reportlab.pdfbase import pdfmetrics\n",
    "from reportlab.pdfbase.ttfonts import TTFont\n",
    "\n",
    "def write_pdf(file, mytext, fontsize):\n",
    "    #二進位記憶體存取\n",
    "    packet = io.BytesIO()\n",
    "\n",
    "    # create a new PDF with Reportlab\n",
    "    pdfmetrics.registerFont(TTFont('kaiu', 'C:/Windows/Fonts/kaiu.ttf'))\n",
    "    can = canvas.Canvas(packet, pagesize=letter)\n",
    "    \n",
    "    #設定要寫入的文字\n",
    "    t = can.beginText()\n",
    "    t.setFont('kaiu', fontsize)\n",
    "    t.setTextOrigin(50, 200)\n",
    "    for line in mytext.splitlines(False):\n",
    "        t.textLine(line.rstrip())\n",
    "#     t.textLines(mytext)\n",
    "    \n",
    "    can.drawText(t)\n",
    "    can.save()\n",
    "\n",
    "    # move to the beginning of the StringIO buffer\n",
    "    packet.seek(0)\n",
    "    new_pdf = PdfFileReader(packet)\n",
    "    # read your existing PDF\n",
    "    existing_pdf = PdfFileReader(open(file, \"rb\"))\n",
    "    output = PdfFileWriter()\n",
    "    # add the \"watermark\" (which is the new pdf) on the existing page\n",
    "    page = existing_pdf.getPage(0)\n",
    "    page2 = new_pdf.getPage(0)\n",
    "    page.mergePage(page2)\n",
    "    output.addPage(page)\n",
    "    # finally, write \"output\" to a real file\n",
    "    outputFilename = os.path.dirname(file) +'/'+ os.path.basename(file).split('.')[0] + \"-w.pdf\"\n",
    "    outputStream = open(outputFilename, \"wb\")\n",
    "    output.write(outputStream)\n",
    "    outputStream.close()\n",
    "    print(outputFilename + ' pdf_write done')\n",
    "    return outputFilename\n",
    "\n",
    "if __name__ == '__main__':\n",
    "    file = 'd:/T1.pdf'\n",
    "    text = '1.本案為03次變更案。\\n2.經洽原承商「苏州方玺建筑」詢價後報價RMB 3,035，同預算價格。\\n3.擬向「苏州方玺建筑」辦理追加。'\n",
    "    newfile = write_pdf(file , text, 12)\n",
    "    os.startfile(newfile)\n"
   ]
  }
 ],
 "metadata": {
  "kernelspec": {
   "display_name": "Python 3",
   "language": "python",
   "name": "python3"
  },
  "language_info": {
   "codemirror_mode": {
    "name": "ipython",
    "version": 3
   },
   "file_extension": ".py",
   "mimetype": "text/x-python",
   "name": "python",
   "nbconvert_exporter": "python",
   "pygments_lexer": "ipython3",
   "version": "3.7.1"
  }
 },
 "nbformat": 4,
 "nbformat_minor": 4
}
