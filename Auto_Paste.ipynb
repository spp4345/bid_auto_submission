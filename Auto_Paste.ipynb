{
 "cells": [
  {
   "cell_type": "code",
   "execution_count": 2,
   "metadata": {},
   "outputs": [
    {
     "name": "stdout",
     "output_type": "stream",
     "text": [
      "貼上完畢\n"
     ]
    }
   ],
   "source": [
    "import keyboard\n",
    "import time\n",
    "import pyperclip\n",
    "\n",
    "class Hotkey_paste():\n",
    "    def __init__(self, hotkey_set, sleep_time):\n",
    "        self.sleep_time = sleep_time\n",
    "        self.text_to_erp = ''\n",
    "        self.hotkey_set = hotkey_set\n",
    "        keyboard.add_hotkey(self.hotkey_set, self.on_triggered)\n",
    "        \n",
    "    def on_triggered(self):\n",
    "        txt = self.text_to_erp.encode().decode().split('\\n')\n",
    "        for item in txt:\n",
    "            time.sleep(self.sleep_time)\n",
    "            pyperclip.copy(item)\n",
    "            keyboard.press_and_release('ctrl+v, enter')\n",
    "        print('貼上完畢')\n",
    "    \n",
    "    def remove_hotkey(self):\n",
    "        keyboard.remove_hotkey(self.hotkey_set)\n",
    "        print('熱鍵移除完畢')\n",
    "        \n",
    "\n",
    "if __name__ == '__main__':\n",
    "    text = '''\n",
    "1.本案為台化寧波「苯酚厂K-621废液焚烧设备检修工程」，預算編列RMB718,396，增值稅率需求為9%。\n",
    "2.開標及催報後共計3家廠商報價，議後以廠商「上海大宇电力」由RMB956,031降至RMB800,000最低，較預算+11.35%。廠商反應本案{差異原因}。\n",
    "3.擬擇廉以RMB800,000(NTD4,000,000元)交「上海大宇电力」承攬，開立9%發票符合。\n",
    "''' \n",
    "    \n",
    "    a = Hotkey_paste('ctrl+2', 0.5)\n",
    "    a.text_to_erp = text\n"
   ]
  }
 ],
 "metadata": {
  "kernelspec": {
   "display_name": "Python 3",
   "language": "python",
   "name": "python3"
  },
  "language_info": {
   "codemirror_mode": {
    "name": "ipython",
    "version": 3
   },
   "file_extension": ".py",
   "mimetype": "text/x-python",
   "name": "python",
   "nbconvert_exporter": "python",
   "pygments_lexer": "ipython3",
   "version": "3.7.6"
  }
 },
 "nbformat": 4,
 "nbformat_minor": 2
}
